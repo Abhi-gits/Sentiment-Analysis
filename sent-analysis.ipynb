{
 "cells": [
  {
   "cell_type": "code",
   "execution_count": 32,
   "metadata": {},
   "outputs": [],
   "source": [
    "X_train = [\"This was an awesome movie\",\n",
    "\"Great movie ! I liked it a lot\",\n",
    "\"Happy ending! awesome acting by the hero\",\n",
    "\"Loved it! truely great\",\n",
    "\"bad not upto the mark\",\n",
    "\"could have been better\",\n",
    "\"Surely a disappointing movie\",\n",
    "\"movie was not bad\"]"
   ]
  },
  {
   "cell_type": "code",
   "execution_count": 33,
   "metadata": {},
   "outputs": [
    {
     "data": {
      "text/plain": [
       "['This was an awesome movie',\n",
       " 'Great movie ! I liked it a lot',\n",
       " 'Happy ending! awesome acting by the hero',\n",
       " 'Loved it! truely great',\n",
       " 'bad not upto the mark',\n",
       " 'could have been better',\n",
       " 'Surely a disappointing movie',\n",
       " 'movie was not bad']"
      ]
     },
     "execution_count": 33,
     "metadata": {},
     "output_type": "execute_result"
    }
   ],
   "source": [
    "Y_train = [1,1,1,1,0,0,0,1]    #1-> positive // 0 -> Negative\n",
    "X_train"
   ]
  },
  {
   "cell_type": "code",
   "execution_count": 23,
   "metadata": {},
   "outputs": [
    {
     "name": "stderr",
     "output_type": "stream",
     "text": [
      "[nltk_data] Error loading stopwords: <urlopen error [WinError 10060] A\n",
      "[nltk_data]     connection attempt failed because the connected party\n",
      "[nltk_data]     did not properly respond after a period of time, or\n",
      "[nltk_data]     established connection failed because connected host\n",
      "[nltk_data]     has failed to respond>\n"
     ]
    },
    {
     "data": {
      "text/plain": [
       "False"
      ]
     },
     "execution_count": 23,
     "metadata": {},
     "output_type": "execute_result"
    }
   ],
   "source": [
    "\n",
    "\n",
    "#from nltk.corpus import stopwords\n",
    "import nltk \n",
    "\n",
    "nltk.download('stopwords')"
   ]
  },
  {
   "cell_type": "code",
   "execution_count": 34,
   "metadata": {},
   "outputs": [],
   "source": [
    "from nltk.tokenize import RegexpTokenizer\n",
    "from nltk.stem.porter import PorterStemmer\n",
    "from nltk.corpus import stopwords\n",
    "tokenizer = RegexpTokenizer(r'\\w+')\n",
    "en_stopwords = set(stopwords.words('english'))\n",
    "ps = PorterStemmer()"
   ]
  },
  {
   "cell_type": "code",
   "execution_count": 35,
   "metadata": {},
   "outputs": [],
   "source": [
    "def getCleanedText(text):\n",
    "    text = text.lower()\n",
    "    #tokenize\n",
    "    tokens = tokenizer.tokenize(text)\n",
    "    new_tokens = [token for token in tokens if token not in en_stopwords]\n",
    "    stemmed_tokens = [ps.stem(tokens) for tokens in new_tokens]\n",
    "    clean_text = \" \".join(stemmed_tokens)\n",
    "    return clean_text"
   ]
  },
  {
   "cell_type": "code",
   "execution_count": 42,
   "metadata": {},
   "outputs": [
    {
     "data": {
      "text/plain": [
       "['awesom movi',\n",
       " 'great movi like lot',\n",
       " 'happi end awesom act hero',\n",
       " 'love trueli great',\n",
       " 'bad upto mark',\n",
       " 'could better',\n",
       " 'sure disappoint movi',\n",
       " 'movi bad']"
      ]
     },
     "execution_count": 42,
     "metadata": {},
     "output_type": "execute_result"
    }
   ],
   "source": [
    "#cleaning of test data\n",
    "x_test = [\"I was happy and i loved acting in the movie\",\n",
    "          \"movie was good\"]\n",
    "x_clean = [getCleanedText(i) for i in X_train]\n",
    "xt_clean = [getCleanedText(i) for i in x_test]\n",
    "x_clean"
   ]
  },
  {
   "cell_type": "code",
   "execution_count": 43,
   "metadata": {},
   "outputs": [
    {
     "data": {
      "text/plain": [
       "array([1, 1])"
      ]
     },
     "execution_count": 43,
     "metadata": {},
     "output_type": "execute_result"
    }
   ],
   "source": [
    "#vectorization \n",
    "from sklearn.feature_extraction.text import CountVectorizer\n",
    "\n",
    "cv = CountVectorizer(ngram_range=(1,2))\n",
    "\n",
    "x_vec = cv.fit_transform(x_clean).toarray()\n",
    "#x_vec\n",
    "#print(cv.get_feature_names())\n",
    "xt_vect = cv.transform(xt_clean).toarray()\n",
    "\n",
    "#Multinomial Naive Bayes\n",
    "from sklearn.naive_bayes import MultinomialNB\n",
    "mn = MultinomialNB()\n",
    "mn.fit(x_vec, Y_train)\n",
    "y_pred = mn.predict(xt_vect)\n",
    "y_pred"
   ]
  },
  {
   "cell_type": "code",
   "execution_count": null,
   "metadata": {},
   "outputs": [],
   "source": []
  }
 ],
 "metadata": {
  "kernelspec": {
   "display_name": "Python 3",
   "language": "python",
   "name": "python3"
  },
  "language_info": {
   "codemirror_mode": {
    "name": "ipython",
    "version": 3
   },
   "file_extension": ".py",
   "mimetype": "text/x-python",
   "name": "python",
   "nbconvert_exporter": "python",
   "pygments_lexer": "ipython3",
   "version": "3.10.4"
  },
  "orig_nbformat": 4
 },
 "nbformat": 4,
 "nbformat_minor": 2
}
