{
 "cells": [
  {
   "cell_type": "code",
   "execution_count": null,
   "metadata": {},
   "outputs": [],
   "source": [
    "X_train = [\"This was an awesome movie\",\n",
    "\"Great movie ! I liked it a lot\",\n",
    "\"Happy ending! awesome acting by the hero\",\n",
    "\"Loved it! truely great\",\n",
    "\"bad not upto the mark\",\n",
    "\"could have been better\",\n",
    "\"Surely a disappointing movie\"]"
   ]
  },
  {
   "cell_type": "code",
   "execution_count": null,
   "metadata": {},
   "outputs": [],
   "source": [
    "Y_train = [1,1,1,1,0,0,0]\n",
    "X_train"
   ]
  }
 ],
 "metadata": {
  "language_info": {
   "name": "python"
  },
  "orig_nbformat": 4
 },
 "nbformat": 4,
 "nbformat_minor": 2
}
